{
 "cells": [
  {
   "cell_type": "code",
   "execution_count": null,
   "id": "c3e5d475-43c4-4245-b839-a52ffe2a8810",
   "metadata": {},
   "outputs": [],
   "source": [
    "# program which finds a prime no from a given list of nos and use logging\n",
    "\n",
    "\n",
    "import logging\n",
    "logging.basicConfig(filename='Radha.log',level=logging.DEBUG, format=\"%(asctime)s%(levelname)s %(message)s\")\n",
    "l=[1,2,'sham',11,[3,7,9,'hello','world'],[44,'python',13]]\n",
    "l1=[] \n",
    "l2=[]\n",
    "l3=[]\n",
    "for i in l:\n",
    "    logging.info(f'processing each element,{i}')\n",
    "\n",
    "    if type (i)==list:\n",
    "        for j in i:\n",
    "            logging.info(f'processing sublist element:{j}')\n",
    "            if type(j)==int:\n",
    "                l1.append(j)\n",
    "    elif type(i)==int:\n",
    "        l1.append(i)\n",
    "\n",
    "    else:\n",
    "        l2.append(i)\n",
    "        \n",
    "        \n",
    "logging.info(f'the result is:{l1},{l2}')\n",
    "\n",
    "logging.info(f'the result is:{l1}')\n",
    "\n",
    "for i in l1:#[1, 2, 3, 44]\n",
    "    if i>1:\n",
    "        for num in range(2,i):\n",
    "            if i % num==0:\n",
    "                break\n",
    "        else:\n",
    "            l3.append(i)\n",
    "logging.info(f'the result of prime no is:{l3}')\n",
    "   \n",
    "logging.shutdown()                \n",
    "print(l3)              \n"
   ]
  }
 ],
 "metadata": {
  "kernelspec": {
   "display_name": "Python 3 (ipykernel)",
   "language": "python",
   "name": "python3"
  },
  "language_info": {
   "codemirror_mode": {
    "name": "ipython",
    "version": 3
   },
   "file_extension": ".py",
   "mimetype": "text/x-python",
   "name": "python",
   "nbconvert_exporter": "python",
   "pygments_lexer": "ipython3",
   "version": "3.12.4"
  }
 },
 "nbformat": 4,
 "nbformat_minor": 5
}
